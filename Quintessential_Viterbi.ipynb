{
  "nbformat": 4,
  "nbformat_minor": 0,
  "metadata": {
    "colab": {
      "name": "Quintessential Viterbi.ipynb",
      "private_outputs": true,
      "provenance": [],
      "collapsed_sections": [],
      "toc_visible": true,
      "authorship_tag": "ABX9TyO58Nhjdfg3ubLsvkX4GaUe",
      "include_colab_link": true
    },
    "kernelspec": {
      "name": "python3",
      "display_name": "Python 3"
    }
  },
  "cells": [
    {
      "cell_type": "markdown",
      "metadata": {
        "id": "view-in-github",
        "colab_type": "text"
      },
      "source": [
        "<a href=\"https://colab.research.google.com/github/asigalov61/Quintessential-Viterbi/blob/main/Quintessential_Viterbi.ipynb\" target=\"_parent\"><img src=\"https://colab.research.google.com/assets/colab-badge.svg\" alt=\"Open In Colab\"/></a>"
      ]
    },
    {
      "cell_type": "markdown",
      "metadata": {
        "id": "cxgeSaaw3vLf"
      },
      "source": [
        "# Quintessential Viterbi (v. 1.3)\r\n",
        "\r\n",
        "***\r\n",
        "\r\n",
        "## Full-featured Viterbi MIDI Music Augmentator\r\n",
        "\r\n",
        "***\r\n",
        "\r\n",
        "#### Project Los Angeles\r\n",
        "\r\n",
        "#### Tegridy Code 2020"
      ]
    },
    {
      "cell_type": "markdown",
      "metadata": {
        "id": "9euElJIppV_U"
      },
      "source": [
        "# Setup Environment"
      ]
    },
    {
      "cell_type": "code",
      "metadata": {
        "id": "W1MjUqH4Q664",
        "cellView": "form"
      },
      "source": [
        "#@title Install dependencies\n",
        "print('Installing dependencies...')\n",
        "print('Please stand-by...')\n",
        "!git clone https://github.com/asigalov61/Quintessential-Viterbi\n",
        "%cd /content/Quintessential-Viterbi\n",
        "\n",
        "!apt-get update -qq && apt-get install -qq libfluidsynth1 fluid-soundfont-gm build-essential libasound2-dev libjack-dev\n",
        "!pip install -qU pyfluidsynth mido #pretty_midi\n",
        "\n",
        "print('Installing FluidSynth...')\n",
        "import ctypes.util\n",
        "orig_ctypes_util_find_library = ctypes.util.find_library\n",
        "def proxy_find_library(lib):\n",
        "  if lib == 'fluidsynth':\n",
        "    return 'libfluidsynth.so.1'\n",
        "  else:\n",
        "    return orig_ctypes_util_find_library(lib)\n",
        "ctypes.util.find_library = proxy_find_library\n",
        "\n",
        "print('Done! Enjoy! :)')"
      ],
      "execution_count": null,
      "outputs": []
    },
    {
      "cell_type": "code",
      "metadata": {
        "cellView": "form",
        "id": "KnZctoj52saT"
      },
      "source": [
        "#@title Import Modules\n",
        "%cd /content/Quintessential-Viterbi\n",
        "import constants\n",
        "\n",
        "import pretty_midi\n",
        "import midi_io, midi_synth\n",
        "import sequences_lib\n",
        "import melodies_lib, melody_inference\n",
        "import chords_lib, chord_inference\n",
        "import notebook_utils\n",
        "\n",
        "import copy\n",
        "\n",
        "from google.colab import files\n",
        "import IPython"
      ],
      "execution_count": null,
      "outputs": []
    },
    {
      "cell_type": "markdown",
      "metadata": {
        "id": "19RHEAhToyXe"
      },
      "source": [
        "# Generate Agumented Viterbi Music from your MIDI"
      ]
    },
    {
      "cell_type": "code",
      "metadata": {
        "id": "HSIy5QeFpKeV",
        "cellView": "form"
      },
      "source": [
        "#@title Please note that Viterbi algorithm may throw errors occasionally so please try generate again if that happens. Also, remove_drums code is a bit buggy so switch this option if you keep getting errors. Same applies for other settings and/or division by zero cases.\n",
        "full_path_to_MIDI_file = \"/content/Quintessential-Viterbi/Sample_MIDI.mid\" #@param {type:\"string\"}\n",
        "ignore_polyphonic_notes = True #@param {type:\"boolean\"}\n",
        "MIDI_instrument_number_for_output_melody_notes = 40 #@param {type:\"slider\", min:0, max:127, step:1}\n",
        "MIDI_program_for_output_melody_notes = 0 #@param {type:\"slider\", min:0, max:127, step:1}\n",
        "start_output_melody_at_this_second = 0 #@param {type:\"slider\", min:0, max:200, step:0.1}\n",
        "squash_melody = True #@param {type:\"boolean\"}\n",
        "minimum_squash_pitch = 40 #@param {type:\"slider\", min:0, max:127, step:1}\n",
        "maximum_squash_pitch = 60 #@param {type:\"slider\", min:0, max:127, step:1}\n",
        "transpose_squashed_melody_to_key = 0 #@param [\"None\", \"0\", \"1\", \"2\", \"3\", \"4\", \"5\", \"6\", \"7\", \"None\"] {type:\"raw\"}\n",
        "transpose_melody_velocity = 10 #@param {type:\"slider\", min:-30, max:30, step:1}\n",
        "quarter_notes_per_minute = 120 #@param {type:\"slider\", min:1, max:480, step:1}\n",
        "chords_inference_type = \"Viterbi\" #@param [\"Viterbi\", \"Notewise\"]\n",
        "infer_chords_from = \"Original Composition\"\n",
        "notewise_chords_inference_min_notes_per_chord = 3\n",
        "number_of_chords_per_bar = None #@param [\"None\", \"1\", \"2\", \"4\", \"8\", \"16\", \"32\"] {type:\"raw\"}\n",
        "chord_key_change_probability = 0.95 #@param {type:\"slider\", min:0.01, max:2, step:0.01}\n",
        "chord_change_probability = 0.95 #@param {type:\"slider\", min:0.01, max:2, step:0.01}\n",
        "chord_pitch_out_of_key_probability = 0.94 #@param {type:\"slider\", min:0.01, max:2, step:0.01}\n",
        "melody_notes_per_chord = 1 #@param {type:\"slider\", min:1, max:20, step:1}\n",
        "add_key_signature = True #@param {type:\"boolean\"}\n",
        "chord_MIDI_instrument_number = 0 #@param {type:\"slider\", min:0, max:127, step:1}\n",
        "chord_MIDI_program_number = 0 #@param {type:\"slider\", min:0, max:127, step:1}\n",
        "chords_main_octave = 5 #@param {type:\"slider\", min:1, max:10, step:1}\n",
        "chords_bass_octave = 4 #@param {type:\"slider\", min:1, max:10, step:1}\n",
        "transpose_chords_velocity = 10 #@param {type:\"slider\", min:-30, max:30, step:1}\n",
        "augmentation_min_composition_stretch_ratio = -0.25 #@param {type:\"slider\", min:-2, max:2, step:0.25}\n",
        "augmentation_max_composition_stretch_ratio = 0.25 #@param {type:\"slider\", min:-2, max:2, step:0.25}\n",
        "augmentation_min_composition_transpose_number = -10 #@param {type:\"slider\", min:-30, max:30, step:1}\n",
        "augmentation_max_composition_transpose_number = 10 #@param {type:\"slider\", min:-30, max:30, step:1}\n",
        "augmentation_min_allowed_pitch = 30 #@param {type:\"slider\", min:0, max:127, step:1}\n",
        "augmentation_max_allowed_pitch = 90 #@param {type:\"slider\", min:1, max:127, step:1}\n",
        "augmentation_delete_out_of_range_notes = True #@param {type:\"boolean\"}\n",
        "do_not_render_composition_to_audio = True #@param {type:\"boolean\"}\n",
        "composition_quantization_steps_per_quarter = 16 #@param {type:\"slider\", min:1, max:32, step:1}\n",
        "\n",
        "# Loading a MIDI file\n",
        "melody_ns = midi_io.midi_file_to_note_sequence(full_path_to_MIDI_file)\n",
        "melody_direct = melodies_lib.midi_file_to_melody(full_path_to_MIDI_file, steps_per_quarter=composition_quantization_steps_per_quarter, qpm=None, ignore_polyphonic_notes=ignore_polyphonic_notes)\n",
        "\n",
        "# Augmenting the original composition\n",
        "augmented_sequence = sequences_lib.augment_note_sequence(\n",
        "        melody_ns,\n",
        "        min_stretch_factor=augmentation_min_composition_stretch_ratio,\n",
        "        max_stretch_factor=augmentation_max_composition_stretch_ratio,\n",
        "        min_transpose=augmentation_min_composition_transpose_number,\n",
        "        max_transpose=augmentation_max_composition_transpose_number,\n",
        "        min_allowed_pitch=augmentation_min_allowed_pitch,\n",
        "        max_allowed_pitch=augmentation_max_allowed_pitch,\n",
        "        delete_out_of_range_notes=augmentation_delete_out_of_range_notes)\n",
        "\n",
        "mel = sequences_lib.remove_redundant_data(augmented_sequence)\n",
        "\n",
        "# Generating and working with Melody/Notes\n",
        "\n",
        "melody_ns1 = sequences_lib.quantize_note_sequence(mel, steps_per_quarter=composition_quantization_steps_per_quarter)\n",
        "\n",
        "mel0 = melody_direct\n",
        "if squash_melody:\n",
        "  mel0.squash(min_note=minimum_squash_pitch, max_note=maximum_squash_pitch, transpose_to_key=transpose_squashed_melody_to_key)\n",
        "\n",
        "mel1 = mel0.to_sequence(velocity=transpose_melody_velocity, \n",
        "                instrument=MIDI_instrument_number_for_output_melody_notes, \n",
        "                program=MIDI_program_for_output_melody_notes, \n",
        "                sequence_start_time=start_output_melody_at_this_second, \n",
        "                qpm=quarter_notes_per_minute\n",
        "                )\n",
        "\n",
        "mel = sequences_lib.remove_redundant_data(mel1)\n",
        "\n",
        "# Generating and working with Accompaniment/Chords\n",
        "\n",
        "if chords_inference_type == 'Viterbi':\n",
        "  mel = sequences_lib.quantize_note_sequence(mel, steps_per_quarter=composition_quantization_steps_per_quarter)\n",
        "  chord_inference.infer_chords_for_sequence(mel,\n",
        "                                chords_per_bar=number_of_chords_per_bar,\n",
        "                                key_change_prob=chord_key_change_probability,\n",
        "                                chord_change_prob=chord_change_probability,\n",
        "                                chord_pitch_out_of_key_prob=chord_pitch_out_of_key_probability,\n",
        "                                chord_note_concentration=melody_notes_per_chord,\n",
        "                                add_key_signatures=add_key_signature\n",
        "                                )\n",
        "\n",
        "else:\n",
        "  sequences_lib.infer_dense_chords_for_sequence(mel, min_notes_per_chord=0)\n",
        "\n",
        "mel_f1 = sequences_lib.quantize_note_sequence(mel, steps_per_quarter=composition_quantization_steps_per_quarter)\n",
        "\n",
        "# Rendering the chords\n",
        "chords_lib.BasicChordRenderer(velocity=transpose_chords_velocity,\n",
        "                                  instrument=chord_MIDI_instrument_number, \n",
        "                                  program=chord_MIDI_program_number, \n",
        "                                  octave=chords_main_octave, \n",
        "                                  bass_octave=chords_bass_octave).render(mel_f1)                               \n",
        "\n",
        "mel2 = sequences_lib.remove_redundant_data(mel_f1)\n",
        "\n",
        "# Done! Creating output, rendering audio, and crunching output stats.\n",
        "print('Original MIDI composition:')\n",
        "melody_o = midi_io.midi_file_to_note_sequence(full_path_to_MIDI_file)\n",
        "notebook_utils.plot_sequence(melody_o)\n",
        "print('Augmented Viterbi MIDI composition:')\n",
        "notebook_utils.plot_sequence(mel2)\n",
        "print('Some stats:')\n",
        "print('Note Histogram:', melodies_lib.Melody.get_note_histogram(mel0))\n",
        "print('Major Key Histogram:', melodies_lib.Melody.get_major_key_histogram(mel0))\n",
        "print('Major Key:', melodies_lib.Melody.get_major_key(mel0))\n",
        "if not do_not_render_composition_to_audio:\n",
        "  print('Synthesizing the output Viterbi MIDI. Please stand-by... ')\n",
        "  synth=midi_synth.fluidsynth(mel2, sample_rate=32000, sf2_path='/usr/share/sounds/sf2/FluidR3_GM.sf2')\n",
        "  notebook_utils.colab_play(synth, sample_rate=32000, autoplay=True)\n",
        "print('Downloading Viterbi MIDI composition... ')\n",
        "print('Task complete! Enjoy! :)')\n",
        "\n",
        "#midi_io.sequence_proto_to_midi_file(melody_ns, 'Original_Melody.mid')\n",
        "midi_io.sequence_proto_to_midi_file(mel2, 'Viterbi_Melody.mid')\n",
        "\n",
        "#files.download('Original_Melody.mid')\n",
        "files.download('Viterbi_Melody.mid')"
      ],
      "execution_count": null,
      "outputs": []
    }
  ]
}