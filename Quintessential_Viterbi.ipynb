{
  "nbformat": 4,
  "nbformat_minor": 0,
  "metadata": {
    "colab": {
      "name": "Quintessential Viterbi.ipynb",
      "private_outputs": true,
      "provenance": [],
      "collapsed_sections": [],
      "authorship_tag": "ABX9TyMWxYdkAyNLqfvRoTV9KrGW",
      "include_colab_link": true
    },
    "kernelspec": {
      "name": "python3",
      "display_name": "Python 3"
    }
  },
  "cells": [
    {
      "cell_type": "markdown",
      "metadata": {
        "id": "view-in-github",
        "colab_type": "text"
      },
      "source": [
        "<a href=\"https://colab.research.google.com/github/asigalov61/Quintessential-Viterbi/blob/main/Quintessential_Viterbi.ipynb\" target=\"_parent\"><img src=\"https://colab.research.google.com/assets/colab-badge.svg\" alt=\"Open In Colab\"/></a>"
      ]
    },
    {
      "cell_type": "markdown",
      "metadata": {
        "id": "cxgeSaaw3vLf"
      },
      "source": [
        "# Quintessential Viterbi (v. 0.9)\r\n",
        "\r\n",
        "***\r\n",
        "\r\n",
        "### Full-featured Viterbi MIDI Music Augmentator\r\n",
        "\r\n",
        "***\r\n",
        "\r\n",
        "#### Project Los Angeles\r\n",
        "\r\n",
        "#### Tegridy Code 2020"
      ]
    },
    {
      "cell_type": "code",
      "metadata": {
        "id": "W1MjUqH4Q664",
        "cellView": "form"
      },
      "source": [
        "#@title Install dependencies\n",
        "print('Installing dependencies...')\n",
        "print('Please stand-by...')\n",
        "!apt-get update -qq && apt-get install -qq libfluidsynth1 fluid-soundfont-gm build-essential libasound2-dev libjack-dev\n",
        "!pip install -qU pyfluidsynth pretty_midi\n",
        "\n",
        "print('Installing FluidSynth...')\n",
        "import ctypes.util\n",
        "orig_ctypes_util_find_library = ctypes.util.find_library\n",
        "def proxy_find_library(lib):\n",
        "  if lib == 'fluidsynth':\n",
        "    return 'libfluidsynth.so.1'\n",
        "  else:\n",
        "    return orig_ctypes_util_find_library(lib)\n",
        "ctypes.util.find_library = proxy_find_library\n",
        "\n",
        "print('Done! Enjoy! :)')"
      ],
      "execution_count": null,
      "outputs": []
    },
    {
      "cell_type": "code",
      "metadata": {
        "cellView": "form",
        "id": "KnZctoj52saT"
      },
      "source": [
        "#@title Import Modules\n",
        "import constants\n",
        "import chords_lib, chord_inference\n",
        "\n",
        "import midi_io, midi_synth\n",
        "import sequences_lib\n",
        "import melodies_lib, melody_inference\n",
        "import notebook_utils\n",
        "\n",
        "import copy\n",
        "\n",
        "from google.colab import files\n",
        "import IPython"
      ],
      "execution_count": null,
      "outputs": []
    },
    {
      "cell_type": "code",
      "metadata": {
        "id": "HSIy5QeFpKeV",
        "cellView": "form"
      },
      "source": [
        "#@title Generate Agumented Viterbi Music from your MIDI\n",
        "full_path_to_MIDI_file = \"/content/Sample_MIDI.mid\" #@param {type:\"string\"}\n",
        "\n",
        "melody_ns = midi_io.midi_file_to_note_sequence(full_path_to_MIDI_file)\n",
        "\n",
        "mel_q = sequences_lib.quantize_note_sequence(melody_ns, steps_per_quarter=32)\n",
        "\n",
        "mel0 = melodies_lib.Melody()\n",
        "mel0.from_quantized_sequence(mel_q,\n",
        "                              search_start_step=0,\n",
        "                              instrument=0,\n",
        "                              gap_bars=1,\n",
        "                              ignore_polyphonic_notes=True,\n",
        "                              pad_end=False,\n",
        "                              filter_drums=True)\n",
        "\n",
        "mel1 = mel0.to_sequence(velocity=100, \n",
        "                instrument=0, \n",
        "                program=0, \n",
        "                sequence_start_time=0.0, \n",
        "                #qpm=120.0\n",
        "                )\n",
        "\n",
        "mel = sequences_lib.remove_redundant_data(mel1)                                                  \n",
        "\n",
        "chord_inference.infer_chords_for_sequence(mel_q,\n",
        "                              #chords_per_bar=8,\n",
        "                              key_change_prob=0.9,\n",
        "                              chord_change_prob=0.9,\n",
        "                              chord_pitch_out_of_key_prob=0.9,\n",
        "                              chord_note_concentration=5,\n",
        "                              add_key_signatures=True\n",
        "                              )\n",
        "\n",
        "chords = [(ta.text, ta.time) for ta in mel_q.text_annotations]\n",
        "\n",
        "chord = [lis[0] for lis in chords]\n",
        "chord_times = [lis[1] for lis in chords]\n",
        "chords_lib.add_chords_to_sequence(mel, chord, chord_times)\n",
        "chords_lib.BasicChordRenderer(velocity=80, \n",
        "                                  instrument=1, \n",
        "                                  program=1, \n",
        "                                  octave=4, \n",
        "                                  bass_octave=3).render(mel)\n",
        "\n",
        "augmented_sequence = sequences_lib.augment_note_sequence(\n",
        "        mel,\n",
        "        min_stretch_factor=-0.5,\n",
        "        max_stretch_factor=2,\n",
        "        min_transpose=-15,\n",
        "        max_transpose=15,\n",
        "        min_allowed_pitch=30,\n",
        "        max_allowed_pitch=90,\n",
        "        delete_out_of_range_notes=True)\n",
        "\n",
        "mel = sequences_lib.remove_redundant_data(augmented_sequence)\n",
        "\n",
        "print('Original MIDI composition:')\n",
        "notebook_utils.plot_sequence(melody_ns)\n",
        "print('Augmented Viterbi MIDI composition:')\n",
        "notebook_utils.plot_sequence(mel)\n",
        "print('Some stats:')\n",
        "print('Note Histogram:', melodies_lib.Melody.get_note_histogram(mel0))\n",
        "print('Major Key Histogram:', melodies_lib.Melody.get_major_key_histogram(mel0))\n",
        "print('Major Key:', melodies_lib.Melody.get_major_key(mel0))\n",
        "print('Synthesizing the output Viterbi MIDI. Please stand-by... ')\n",
        "synth=midi_synth.fluidsynth(mel, sample_rate=32000, sf2_path='/usr/share/sounds/sf2/FluidR3_GM.sf2')\n",
        "notebook_utils.colab_play(synth, sample_rate=32000, autoplay=True)\n",
        "print('Downloading Viterbi MIDI composition... ')\n",
        "print('Task complete! Enjoy! :)')\n",
        "\n",
        "#midi_io.sequence_proto_to_midi_file(melody_ns, 'Original_Melody.mid')\n",
        "midi_io.sequence_proto_to_midi_file(mel, 'Viterbi_Melody.mid')\n",
        "\n",
        "#files.download('Original_Melody.mid')\n",
        "files.download('Viterbi_Melody.mid')"
      ],
      "execution_count": null,
      "outputs": []
    }
  ]
}